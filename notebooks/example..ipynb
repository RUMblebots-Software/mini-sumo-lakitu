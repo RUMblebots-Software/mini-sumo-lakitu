{
 "cells": [
  {
   "cell_type": "code",
   "execution_count": 2,
   "id": "d12ae5c3",
   "metadata": {},
   "outputs": [],
   "source": [
    "\n",
    "%matplotlib inline\n",
    "import albumentations as A\n",
    "import cv2\n",
    "import numpy as np\n",
    "import os\n",
    "from matplotlib import pyplot as plt\n"
   ]
  },
  {
   "cell_type": "code",
   "execution_count": 10,
   "id": "c8c38068",
   "metadata": {},
   "outputs": [],
   "source": [
    "\n",
    "def visualize(image):\n",
    "    plt.figure(figsize=(10,10))\n",
    "    plt.axis(\"off\")\n",
    "    plt.imshow(image)\n"
   ]
  },
  {
   "cell_type": "code",
   "execution_count": 11,
   "id": "4e0c41ba",
   "metadata": {},
   "outputs": [],
   "source": [
    "\n",
    "input_folders = [\"../data/Data Acquisition/Flag.class\",\"../data/Data Acquisition/MiniSumo.class\",\"../data/Data Acquisition/NotMiniSumo.class\"]\n",
    "output_folders = [\"../data/Data Augmentation/Flag.Augmented\",\"../data/Data Augmentation/MiniSumo.Augmented\",\"../data/Data Augmentation/NotMiniSumo.Augmented\"]\n",
    "names = [\"Flag\",\"MiniSumo\",\"NotMiniSumo\"]"
   ]
  },
  {
   "cell_type": "code",
   "execution_count": 12,
   "id": "8473bbf1",
   "metadata": {},
   "outputs": [],
   "source": [
    "\n",
    "#---------Look for necessary trasnformation--------------------\n",
    "#Pipeline Definition \n",
    "pipeline = A.Compose([\n",
    "    A.ToSepia(p=0.99), # 50% chance to flip\n",
    "    A.RandomBrightnessContrast(p=0.8), # 80% chance to adjust brightness/contrast\n",
    "    A.GaussianBlur(p=0.3), # 30% chance to blur\n",
    "])\n"
   ]
  },
  {
   "cell_type": "code",
   "execution_count": 13,
   "id": "bd6fd6eb",
   "metadata": {},
   "outputs": [],
   "source": [
    "\n",
    "\n",
    "#------- Applie the pipeline to each photo in the three folders then save it --------------\n",
    "output_folders_index = -1\n",
    "output_file_name = 00\n",
    "for folder in input_folders:\n",
    "    output_folders_index += 1\n",
    "    for file_name in os.listdir(folder):\n",
    "        img = cv2.imread(os.path.join(folder,file_name))\n",
    "\n",
    "        #If failed to load image this will skip the proccess\n",
    "        if img is None:\n",
    "            print(f\"Failed to load image {img} from {folder}\")\n",
    "            break\n",
    "\n",
    "        pipelined = pipeline(image=img)\n",
    "        trasnformed = pipelined[\"image\"]\n",
    "\n",
    "\n",
    "        save_to_folder = os.path.join(output_folders[output_folders_index],f\"Augmented_{names[output_folders_index]}_{output_file_name}.jpg\")\n",
    "        cv2.imwrite(save_to_folder,trasnformed)\n",
    "        output_file_name += 1\n",
    "    output_file_name = 00  \n",
    "        "
   ]
  },
  {
   "cell_type": "code",
   "execution_count": null,
   "id": "d735e3e6",
   "metadata": {},
   "outputs": [],
   "source": []
  }
 ],
 "metadata": {
  "kernelspec": {
   "display_name": "Python 3",
   "language": "python",
   "name": "python3"
  },
  "language_info": {
   "codemirror_mode": {
    "name": "ipython",
    "version": 3
   },
   "file_extension": ".py",
   "mimetype": "text/x-python",
   "name": "python",
   "nbconvert_exporter": "python",
   "pygments_lexer": "ipython3",
   "version": "3.13.1"
  }
 },
 "nbformat": 4,
 "nbformat_minor": 5
}
