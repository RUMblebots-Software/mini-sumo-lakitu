{
 "cells": [
  {
   "cell_type": "code",
   "execution_count": 2,
   "id": "d12ae5c3",
   "metadata": {},
   "outputs": [],
   "source": [
    "\n",
    "%matplotlib inline\n",
    "import albumentations as A\n",
    "import cv2\n",
    "import numpy as np\n",
    "import os\n",
    "from matplotlib import pyplot as plt\n"
   ]
  },
  {
   "cell_type": "code",
   "execution_count": 10,
   "id": "c8c38068",
   "metadata": {},
   "outputs": [],
   "source": [
    "\n",
    "# test\n",
    "def visualize(image):\n",
    "    plt.figure(figsize=(10,10))\n",
    "    plt.axis(\"off\")\n",
    "    plt.imshow(image)\n"
   ]
  },
  {
   "cell_type": "code",
   "execution_count": 11,
   "id": "4e0c41ba",
   "metadata": {},
   "outputs": [],
   "source": [
    "\n",
    "input_folders = [\"../data/Data Acquisition/Flag.class\",\"../data/Data Acquisition/MiniSumo.class\",\"../data/Data Acquisition/NotMiniSumo.class\"]\n",
    "output_folders = [\"../data/Data Augmentation/Flag.Augmented\",\"../data/Data Augmentation/MiniSumo.Augmented\",\"../data/Data Augmentation/NotMiniSumo.Augmented\"]\n",
    "names = [\"Flag\",\"MiniSumo\",\"NotMiniSumo\"]"
   ]
  },
  {
   "cell_type": "code",
   "execution_count": null,
   "id": "8473bbf1",
   "metadata": {},
   "outputs": [],
   "source": [
    "\n",
    "#---------Look for necessary trasnformation--------------------\n",
    "#Pipeline Definition \n",
    "\n",
    "prob_pipeline1 = 0.90\n",
    "prob_pipeline2 = 0.80\n",
    "\n",
    "\n",
    "pipeline = A.OneOf([\n",
    "    \n",
    "    A.Compose([\n",
    "        A.RandomShadow(p=0.90), #Simulates shadows for the image by reducing the brightness of the image in shadow regions.\n",
    "        A.RandomBrightnessContrast(p=0.90), # 80% chance to adjust brightness/contrast\n",
    "        A.RandomRotate90(p=0.90), #Randomly rotate the input by 90 degrees zero or more times.\n",
    "        A.Illumination(p=0.90), #Apply various illumination effects to the image.\n",
    "   \n",
    "        A.OneOf([\n",
    "            A.MotionBlur(p=0.70), #Apply motion blur to the input image using a directional kernel.\n",
    "            A.ZoomBlur (p=0.90), #Apply zoom blur transform.    \n",
    "        ], p=0.75)  \n",
    "    ], p=prob_pipeline1),                  # The entire pipeline has a 100% chance to be applied\n",
    "\n",
    "    A.Compose([\n",
    "        A.Downscale(scale_min=0.25, scale_max=0.5, p=0.80), #Decrease image quality by downscaling and upscaling back.\n",
    "        A.RandomGravel(p=0.50), #Adds gravel-like artifacts to the input image.\n",
    "        A.Resize(height=256, width=256, p=0.30), #Resize the input to the given height and width\n",
    "    ], p=prob_pipeline2,)\n",
    "], p = 0.50)\n"
   ]
  },
  {
   "cell_type": "code",
   "execution_count": 13,
   "id": "bd6fd6eb",
   "metadata": {},
   "outputs": [],
   "source": [
    "\n",
    "\n",
    "#------- Applie the pipeline to each photo in the three folders then save it --------------\n",
    "output_folders_index = -1\n",
    "output_file_name = 00\n",
    "for folder in input_folders:\n",
    "    output_folders_index += 1\n",
    "    for file_name in os.listdir(folder):\n",
    "        img = cv2.imread(os.path.join(folder,file_name))\n",
    "\n",
    "        #If failed to load image this will skip the proccess\n",
    "        if img is None:\n",
    "            print(f\"Failed to load image {img} from {folder}\")\n",
    "            break\n",
    "\n",
    "        pipelined = pipeline(image=img)\n",
    "        trasnformed = pipelined[\"image\"]\n",
    "\n",
    "\n",
    "        save_to_folder = os.path.join(output_folders[output_folders_index],f\"Augmented_{names[output_folders_index]}_{output_file_name}.jpg\")\n",
    "        cv2.imwrite(save_to_folder,trasnformed)\n",
    "        output_file_name += 1\n",
    "    output_file_name = 00  \n",
    "        "
   ]
  },
  {
   "cell_type": "code",
   "execution_count": null,
   "id": "d735e3e6",
   "metadata": {},
   "outputs": [],
   "source": []
  }
 ],
 "metadata": {
  "kernelspec": {
   "display_name": "Python 3",
   "language": "python",
   "name": "python3"
  },
  "language_info": {
   "codemirror_mode": {
    "name": "ipython",
    "version": 3
   },
   "file_extension": ".py",
   "mimetype": "text/x-python",
   "name": "python",
   "nbconvert_exporter": "python",
   "pygments_lexer": "ipython3",
   "version": "3.13.1"
  }
 },
 "nbformat": 4,
 "nbformat_minor": 5
}
